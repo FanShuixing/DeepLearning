{
 "cells": [
  {
   "cell_type": "markdown",
   "metadata": {},
   "source": [
    "#### 论文中提到FCN可以输入任意尺寸的图片，然后输出的mask同原图大小一样，但是在实际训练的时候，为了进行一个batch的训练，需要将图片大小设置为一样，pascal voc 2012的图片大小是不一样的，这儿统一通过pad和crop成（320，320）的大小"
   ]
  },
  {
   "cell_type": "code",
   "execution_count": 1,
   "metadata": {},
   "outputs": [],
   "source": [
    "import os"
   ]
  },
  {
   "cell_type": "code",
   "execution_count": 2,
   "metadata": {},
   "outputs": [],
   "source": [
    "train_images_list=os.listdir('/input0/pascal_2012_seg/train/images')"
   ]
  },
  {
   "cell_type": "code",
   "execution_count": 3,
   "metadata": {},
   "outputs": [
    {
     "name": "stdout",
     "output_type": "stream",
     "text": [
      "2330\n"
     ]
    }
   ],
   "source": [
    "print(len(train_images_list))"
   ]
  },
  {
   "cell_type": "markdown",
   "metadata": {},
   "source": [
    "#### 创建路径"
   ]
  },
  {
   "cell_type": "code",
   "execution_count": null,
   "metadata": {},
   "outputs": [],
   "source": [
    "os.mkdir('./data')\n",
    "os.mkdir('./data/train')\n",
    "os.mkdir('./data/validation')\n",
    "os.mkdir('./data/test')\n",
    "os.mkdir('./data/train/images')\n",
    "os.mkdir('./data/train/masks')\n",
    "os.mkdir('./data/validation/images')\n",
    "os.mkdir('./data/validation/masks')\n",
    "os.mkdir('./data/test/images')\n",
    "os.mkdir('./data/test/masks')\n"
   ]
  },
  {
   "cell_type": "markdown",
   "metadata": {},
   "source": [
    "#### 先对图片进行填充再进行裁剪，图片长宽小于320的则填充0，所以填充后的图片的长宽都是大于等于320的，然后将图片尺寸大于320的进行随机裁剪，裁剪的时候必须得保证images和masks的裁剪是在对应的区域进行裁剪，这样才能保证裁剪后images和masks的像素依然是一一对应的"
   ]
  },
  {
   "cell_type": "code",
   "execution_count": 6,
   "metadata": {},
   "outputs": [],
   "source": [
    "from PIL import Image\n",
    "from keras.preprocessing import image\n",
    "import numpy as np\n",
    "base_path='/input0/pascal_2012_seg/'\n",
    "# val_base_path='/input0/pascal_2012_seg/validation'\n",
    "\n",
    "def pair_random_crop(name,data_class,images_save_path,masks_save_path,target_size ,sync_seed=1, **kwargs):\n",
    "    np.random.seed(sync_seed)\n",
    "    # 填充\n",
    "    x_ori_img=image.load_img(base_path+data_class+'/images/'+name+'.jpg')\n",
    "    x=image.img_to_array(x_ori_img)\n",
    "    \n",
    "    y_ori_img=image.load_img(base_path+data_class+'/masks/'+name+'.png')\n",
    "    y=image.img_to_array(y_ori_img)\n",
    "\n",
    "    h, w = x.shape[0], x.shape[1]\n",
    "#     print(h,w)\n",
    "#     print(target_size[1])\n",
    "    pad_w = max(target_size[1] - w, 0)\n",
    "    pad_h = max(target_size[0] - h, 0)\n",
    "    \n",
    "    x = np.lib.pad(x, ((pad_h // 2, pad_h - pad_h // 2), (pad_w // 2, pad_w - pad_w // 2), (0, 0)),\n",
    "                   'constant', constant_values=0.)\n",
    "    y = np.lib.pad(y, ((pad_h // 2, pad_h - pad_h // 2), (pad_w // 2, pad_w - pad_w // 2), (0, 0)),\n",
    "                   'constant', constant_values=0.)\n",
    "\n",
    "#     print(x.shape,y.shape)\n",
    "    # h, w = x.shape[0], x.shape[1]\n",
    "    #裁减\n",
    "    h, w = x.shape[0], x.shape[1]\n",
    "    rangeh = (h - target_size[0]) // 2\n",
    "    rangew = (w - target_size[1]) // 2\n",
    "#     print(rangeh,rangew)\n",
    "    offseth = 0 if rangeh == 0 else np.random.randint(rangeh)\n",
    "    offsetw = 0 if rangew == 0 else np.random.randint(rangew)\n",
    "\n",
    "    h_start, h_end = offseth, offseth + target_size[0]\n",
    "    w_start, w_end = offsetw, offsetw + target_size[1]\n",
    "    x_img=x[h_start:h_end, w_start:w_end, :]\n",
    "    im=Image.fromarray(x_img.astype('uint8'))\n",
    "    im.save(images_save_path+'/'+name+'.jpg')\n",
    "    \n",
    "    y_mask=y[h_start:h_end, w_start:w_end, :]\n",
    "    im=Image.fromarray(y_mask.astype('uint8'))\n",
    "    im.save(masks_save_path+'/'+name+'.png')\n",
    "\n",
    "    return x[h_start:h_end, w_start:w_end, :], y[h_start:h_end, w_start:w_end, :]"
   ]
  },
  {
   "cell_type": "code",
   "execution_count": null,
   "metadata": {},
   "outputs": [],
   "source": [
    "# train_images_list\n",
    "train_images_list=os.listdir('/input0/pascal_2012_seg/train/images')\n",
    "for each in train_images_list:\n",
    "#     print(each)\n",
    "        each=each.split('.')\n",
    "        name=each[0]\n",
    "#         print(name)\n",
    "        pair_random_crop(name,'train','./data/train/images','./data/train/masks',target_size=(320,320))\n",
    "        \n",
    "print('Done')  "
   ]
  },
  {
   "cell_type": "code",
   "execution_count": 12,
   "metadata": {},
   "outputs": [
    {
     "name": "stdout",
     "output_type": "stream",
     "text": [
      "Done\n"
     ]
    }
   ],
   "source": [
    "# train_images_list\n",
    "val_list=os.listdir('/input0/pascal_2012_seg/validation/images')\n",
    "for each in val_list:\n",
    "#     print(each)\n",
    "        each=each.split('.')\n",
    "        name=each[0]\n",
    "#         print(name)\n",
    "        pair_random_crop(name,'validation','./data/validation/images','./data/validation/masks',(320,320))\n",
    "        \n",
    "print('Done')  "
   ]
  },
  {
   "cell_type": "code",
   "execution_count": 13,
   "metadata": {},
   "outputs": [
    {
     "name": "stdout",
     "output_type": "stream",
     "text": [
      "Done\n"
     ]
    }
   ],
   "source": [
    "# test_images_list\n",
    "val_list=os.listdir('/input0/pascal_2012_seg/test/images')\n",
    "for each in val_list:\n",
    "#     print(each)\n",
    "        each=each.split('.')\n",
    "        name=each[0]\n",
    "#         print(name)\n",
    "        pair_random_crop(name,'test','./data/test/images','./data/test/masks',(320,320))\n",
    "        \n",
    "print('Done')  "
   ]
  },
  {
   "cell_type": "code",
   "execution_count": null,
   "metadata": {},
   "outputs": [],
   "source": []
  }
 ],
 "metadata": {
  "kernelspec": {
   "display_name": "Python 3",
   "language": "python",
   "name": "python3"
  },
  "language_info": {
   "codemirror_mode": {
    "name": "ipython",
    "version": 3
   },
   "file_extension": ".py",
   "mimetype": "text/x-python",
   "name": "python",
   "nbconvert_exporter": "python",
   "pygments_lexer": "ipython3",
   "version": "3.6.5"
  }
 },
 "nbformat": 4,
 "nbformat_minor": 2
}
