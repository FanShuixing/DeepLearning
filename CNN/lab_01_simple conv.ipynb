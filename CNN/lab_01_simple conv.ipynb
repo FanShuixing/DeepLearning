{
 "cells": [
  {
   "cell_type": "markdown",
   "metadata": {},
   "source": [
    "### 猫狗分类\n",
    "---\n",
    "**data**: 一共选择了4000张图片，比例为8:1:1，两个类的数量一样  \n",
    "  \n",
    "**模型训练**：\n",
    "1. 用四个卷积池化＋2个fc  \n",
    " 1.1. 正常训练(有归一化，没有数据增强)  \n",
    " 1.2. 不做图片归一化（没有rescale=1./255，没有数据增强）  \n",
    " 1.3. 数据增强\n",
    " \n",
    " \n",
    " ---\n",
    " 代码中很多都是重复的"
   ]
  },
  {
   "cell_type": "markdown",
   "metadata": {},
   "source": [
    "##### 1.1 四个卷积池化＋2个fc"
   ]
  },
  {
   "cell_type": "code",
   "execution_count": 27,
   "metadata": {},
   "outputs": [],
   "source": [
    "from keras import layers\n",
    "from keras import models\n",
    "\n",
    "model = models.Sequential()\n",
    "model.add(layers.Conv2D(32, (3, 3), activation='relu',\n",
    "                        input_shape=(150, 150, 3)))\n",
    "model.add(layers.MaxPooling2D((2, 2)))\n",
    "model.add(layers.Conv2D(64, (3, 3), activation='relu'))\n",
    "model.add(layers.MaxPooling2D((2, 2)))\n",
    "model.add(layers.Conv2D(128, (3, 3), activation='relu'))\n",
    "model.add(layers.MaxPooling2D((2, 2)))\n",
    "model.add(layers.Conv2D(128, (3, 3), activation='relu'))\n",
    "model.add(layers.MaxPooling2D((2, 2)))\n",
    "model.add(layers.Flatten())\n",
    "model.add(layers.Dense(512, activation='relu'))\n",
    "model.add(layers.Dense(1, activation='sigmoid'))"
   ]
  },
  {
   "cell_type": "code",
   "execution_count": 28,
   "metadata": {},
   "outputs": [
    {
     "name": "stdout",
     "output_type": "stream",
     "text": [
      "_________________________________________________________________\n",
      "Layer (type)                 Output Shape              Param #   \n",
      "=================================================================\n",
      "conv2d_9 (Conv2D)            (None, 148, 148, 32)      896       \n",
      "_________________________________________________________________\n",
      "max_pooling2d_12 (MaxPooling (None, 74, 74, 32)        0         \n",
      "_________________________________________________________________\n",
      "conv2d_10 (Conv2D)           (None, 72, 72, 64)        18496     \n",
      "_________________________________________________________________\n",
      "max_pooling2d_13 (MaxPooling (None, 36, 36, 64)        0         \n",
      "_________________________________________________________________\n",
      "conv2d_11 (Conv2D)           (None, 34, 34, 128)       73856     \n",
      "_________________________________________________________________\n",
      "max_pooling2d_14 (MaxPooling (None, 17, 17, 128)       0         \n",
      "_________________________________________________________________\n",
      "conv2d_12 (Conv2D)           (None, 15, 15, 128)       147584    \n",
      "_________________________________________________________________\n",
      "max_pooling2d_15 (MaxPooling (None, 7, 7, 128)         0         \n",
      "_________________________________________________________________\n",
      "flatten_3 (Flatten)          (None, 6272)              0         \n",
      "_________________________________________________________________\n",
      "dense_5 (Dense)              (None, 512)               3211776   \n",
      "_________________________________________________________________\n",
      "dense_6 (Dense)              (None, 1)                 513       \n",
      "=================================================================\n",
      "Total params: 3,453,121\n",
      "Trainable params: 3,453,121\n",
      "Non-trainable params: 0\n",
      "_________________________________________________________________\n"
     ]
    }
   ],
   "source": [
    "model.summary()"
   ]
  },
  {
   "cell_type": "code",
   "execution_count": 29,
   "metadata": {},
   "outputs": [],
   "source": [
    "from keras import optimizers\n",
    "\n",
    "model.compile(loss='binary_crossentropy',\n",
    "              optimizer=optimizers.RMSprop(lr=1e-4),\n",
    "              metrics=['acc'])"
   ]
  },
  {
   "cell_type": "code",
   "execution_count": 4,
   "metadata": {},
   "outputs": [
    {
     "name": "stdout",
     "output_type": "stream",
     "text": [
      "Found 3200 images belonging to 2 classes.\n",
      "Found 400 images belonging to 2 classes.\n"
     ]
    }
   ],
   "source": [
    "from keras.preprocessing.image import ImageDataGenerator\n",
    "\n",
    "# All images will be rescaled by 1./255\n",
    "\n",
    "train_dir='./cats_and_dogs_small/train'\n",
    "validation_dir='./cats_and_dogs_small/validation'\n",
    "train_datagen = ImageDataGenerator(rescale=1./255)\n",
    "test_datagen = ImageDataGenerator(rescale=1./255)\n",
    "\n",
    "train_generator = train_datagen.flow_from_directory(\n",
    "        # This is the target directory\n",
    "        train_dir,\n",
    "        # All images will be resized to 150x150\n",
    "        target_size=(150, 150),\n",
    "        batch_size=20,\n",
    "        # Since we use binary_crossentropy loss, we need binary labels\n",
    "        class_mode='binary')\n",
    "\n",
    "validation_generator = test_datagen.flow_from_directory(\n",
    "        validation_dir,\n",
    "        target_size=(150, 150),\n",
    "        batch_size=20,\n",
    "        class_mode='binary')"
   ]
  },
  {
   "cell_type": "code",
   "execution_count": 5,
   "metadata": {},
   "outputs": [
    {
     "name": "stdout",
     "output_type": "stream",
     "text": [
      "Epoch 1/30\n",
      "160/160 [==============================] - 28s 177ms/step - loss: 0.6870 - acc: 0.5375 - val_loss: 0.6720 - val_acc: 0.6075\n",
      "Epoch 2/30\n",
      "160/160 [==============================] - 16s 98ms/step - loss: 0.6349 - acc: 0.6369 - val_loss: 0.6300 - val_acc: 0.6525\n",
      "Epoch 3/30\n",
      "160/160 [==============================] - 16s 98ms/step - loss: 0.5858 - acc: 0.6834 - val_loss: 0.6045 - val_acc: 0.6725\n",
      "Epoch 4/30\n",
      "160/160 [==============================] - 14s 89ms/step - loss: 0.5435 - acc: 0.7191 - val_loss: 0.5951 - val_acc: 0.6825\n",
      "Epoch 5/30\n",
      "160/160 [==============================] - 15s 91ms/step - loss: 0.5107 - acc: 0.7475 - val_loss: 0.6641 - val_acc: 0.6100\n",
      "Epoch 6/30\n",
      "160/160 [==============================] - 15s 95ms/step - loss: 0.4854 - acc: 0.7644 - val_loss: 0.5678 - val_acc: 0.6800\n",
      "Epoch 7/30\n",
      "160/160 [==============================] - 16s 97ms/step - loss: 0.4506 - acc: 0.7913 - val_loss: 0.5538 - val_acc: 0.7250\n",
      "Epoch 8/30\n",
      "160/160 [==============================] - 15s 95ms/step - loss: 0.4244 - acc: 0.8044 - val_loss: 0.5388 - val_acc: 0.7250\n",
      "Epoch 9/30\n",
      "160/160 [==============================] - 14s 91ms/step - loss: 0.4003 - acc: 0.8222 - val_loss: 0.5474 - val_acc: 0.7100\n",
      "Epoch 10/30\n",
      "160/160 [==============================] - 14s 89ms/step - loss: 0.3812 - acc: 0.8312 - val_loss: 0.5413 - val_acc: 0.7400\n",
      "Epoch 11/30\n",
      "160/160 [==============================] - 14s 89ms/step - loss: 0.3495 - acc: 0.8422 - val_loss: 0.5289 - val_acc: 0.7400\n",
      "Epoch 12/30\n",
      "160/160 [==============================] - 15s 91ms/step - loss: 0.3326 - acc: 0.8578 - val_loss: 0.5655 - val_acc: 0.7375\n",
      "Epoch 13/30\n",
      "160/160 [==============================] - 15s 95ms/step - loss: 0.3113 - acc: 0.8650 - val_loss: 0.5317 - val_acc: 0.7375\n",
      "Epoch 14/30\n",
      "160/160 [==============================] - 15s 91ms/step - loss: 0.2784 - acc: 0.8775 - val_loss: 0.5660 - val_acc: 0.7275\n",
      "Epoch 15/30\n",
      "160/160 [==============================] - 14s 88ms/step - loss: 0.2561 - acc: 0.8944 - val_loss: 0.6103 - val_acc: 0.7075\n",
      "Epoch 16/30\n",
      "160/160 [==============================] - 15s 92ms/step - loss: 0.2305 - acc: 0.9041 - val_loss: 0.5812 - val_acc: 0.7350\n",
      "Epoch 17/30\n",
      "160/160 [==============================] - 14s 88ms/step - loss: 0.2032 - acc: 0.9166 - val_loss: 0.6042 - val_acc: 0.7575\n",
      "Epoch 18/30\n",
      "160/160 [==============================] - 14s 90ms/step - loss: 0.1829 - acc: 0.9297 - val_loss: 0.5891 - val_acc: 0.7350\n",
      "Epoch 19/30\n",
      "160/160 [==============================] - 15s 93ms/step - loss: 0.1551 - acc: 0.9434 - val_loss: 0.7421 - val_acc: 0.6875\n",
      "Epoch 20/30\n",
      "160/160 [==============================] - 14s 88ms/step - loss: 0.1365 - acc: 0.9509 - val_loss: 0.6526 - val_acc: 0.7250\n",
      "Epoch 21/30\n",
      "160/160 [==============================] - 15s 94ms/step - loss: 0.1141 - acc: 0.9609 - val_loss: 0.8248 - val_acc: 0.7250\n",
      "Epoch 22/30\n",
      "160/160 [==============================] - 15s 92ms/step - loss: 0.1001 - acc: 0.9675 - val_loss: 0.7128 - val_acc: 0.7525\n",
      "Epoch 23/30\n",
      "160/160 [==============================] - 15s 93ms/step - loss: 0.0871 - acc: 0.9709 - val_loss: 0.7822 - val_acc: 0.7600\n",
      "Epoch 24/30\n",
      "160/160 [==============================] - 15s 92ms/step - loss: 0.0727 - acc: 0.9787 - val_loss: 0.8620 - val_acc: 0.7225\n",
      "Epoch 25/30\n",
      "160/160 [==============================] - 14s 90ms/step - loss: 0.0628 - acc: 0.9850 - val_loss: 1.1977 - val_acc: 0.6900\n",
      "Epoch 26/30\n",
      "160/160 [==============================] - 15s 91ms/step - loss: 0.0516 - acc: 0.9856 - val_loss: 0.7795 - val_acc: 0.7425\n",
      "Epoch 27/30\n",
      "160/160 [==============================] - 15s 91ms/step - loss: 0.0418 - acc: 0.9887 - val_loss: 0.8673 - val_acc: 0.7425\n",
      "Epoch 28/30\n",
      "160/160 [==============================] - 14s 90ms/step - loss: 0.0390 - acc: 0.9887 - val_loss: 0.8652 - val_acc: 0.7300\n",
      "Epoch 29/30\n",
      "160/160 [==============================] - 15s 94ms/step - loss: 0.0286 - acc: 0.9928 - val_loss: 0.9724 - val_acc: 0.7450\n",
      "Epoch 30/30\n",
      "160/160 [==============================] - 14s 87ms/step - loss: 0.0302 - acc: 0.9906 - val_loss: 1.0366 - val_acc: 0.7275\n"
     ]
    }
   ],
   "source": [
    "history = model.fit_generator(\n",
    "      train_generator,\n",
    "      steps_per_epoch=160,\n",
    "      epochs=30,\n",
    "      validation_data=validation_generator,\n",
    "      validation_steps=20)\n"
   ]
  },
  {
   "cell_type": "code",
   "execution_count": 16,
   "metadata": {},
   "outputs": [
    {
     "data": {
      "image/png": "[encoded data removed]",
      "text/plain": [
       "<Figure size 432x288 with 1 Axes>"
      ]
     },
     "metadata": {},
     "output_type": "display_data"
    },
    {
     "data": {
      "image/png": "[encoded data removed]",
      "text/plain": [
       "<Figure size 432x288 with 1 Axes>"
      ]
     },
     "metadata": {},
     "output_type": "display_data"
    }
   ],
   "source": [
    "import matplotlib.pyplot as plt\n",
    "\n",
    "acc = history.history['acc']\n",
    "val_acc = history.history['val_acc']\n",
    "loss = history.history['loss']\n",
    "val_loss = history.history['val_loss']\n",
    "\n",
    "epochs = range(len(acc))\n",
    "\n",
    "plt.plot(epochs, acc, 'bo', label='Training acc')\n",
    "plt.plot(epochs, val_acc, 'b', label='Validation acc')\n",
    "plt.title('Training and validation accuracy')\n",
    "plt.legend()\n",
    "\n",
    "plt.figure()\n",
    "\n",
    "plt.plot(epochs, loss, 'bo', label='Training loss')\n",
    "plt.plot(epochs, val_loss, 'b', label='Validation loss')\n",
    "plt.title('Training and validation loss')\n",
    "plt.legend()\n",
    "\n",
    "plt.show()"
   ]
  },
  {
   "cell_type": "markdown",
   "metadata": {},
   "source": [
    "图1.1"
   ]
  },
  {
   "cell_type": "markdown",
   "metadata": {},
   "source": [
    "##### 1.2 不做归一化处理\n",
    "---\n",
    "可以看出loss基本上没怎么降,归一化是非常重要的"
   ]
  },
  {
   "cell_type": "code",
   "execution_count": 21,
   "metadata": {},
   "outputs": [
    {
     "name": "stdout",
     "output_type": "stream",
     "text": [
      "Found 3200 images belonging to 2 classes.\n",
      "Found 400 images belonging to 2 classes.\n",
      "Epoch 1/30\n",
      "160/160 [==============================] - 22s 135ms/step - loss: 8.0063 - acc: 0.5025 - val_loss: 8.0590 - val_acc: 0.5000\n",
      "Epoch 2/30\n",
      "160/160 [==============================] - 15s 95ms/step - loss: 8.0590 - acc: 0.5000 - val_loss: 8.0590 - val_acc: 0.5000\n",
      "Epoch 3/30\n",
      "160/160 [==============================] - 15s 95ms/step - loss: 8.0590 - acc: 0.5000 - val_loss: 8.0590 - val_acc: 0.5000\n",
      "Epoch 4/30\n",
      "160/160 [==============================] - 15s 92ms/step - loss: 8.0590 - acc: 0.5000 - val_loss: 8.0590 - val_acc: 0.5000\n",
      "Epoch 5/30\n",
      "160/160 [==============================] - 16s 98ms/step - loss: 8.0590 - acc: 0.5000 - val_loss: 8.0590 - val_acc: 0.5000\n",
      "Epoch 6/30\n",
      "160/160 [==============================] - 15s 97ms/step - loss: 8.0590 - acc: 0.5000 - val_loss: 8.0590 - val_acc: 0.5000\n",
      "Epoch 7/30\n",
      "160/160 [==============================] - 15s 95ms/step - loss: 8.0590 - acc: 0.5000 - val_loss: 8.0590 - val_acc: 0.5000\n",
      "Epoch 8/30\n",
      "160/160 [==============================] - 15s 94ms/step - loss: 8.0590 - acc: 0.5000 - val_loss: 8.0590 - val_acc: 0.5000\n",
      "Epoch 9/30\n",
      "160/160 [==============================] - 16s 100ms/step - loss: 8.0590 - acc: 0.5000 - val_loss: 8.0590 - val_acc: 0.5000\n",
      "Epoch 10/30\n",
      "160/160 [==============================] - 15s 96ms/step - loss: 8.0590 - acc: 0.5000 - val_loss: 8.0590 - val_acc: 0.5000\n",
      "Epoch 11/30\n",
      "160/160 [==============================] - 15s 95ms/step - loss: 8.0590 - acc: 0.5000 - val_loss: 8.0590 - val_acc: 0.5000\n",
      "Epoch 12/30\n",
      "160/160 [==============================] - 15s 94ms/step - loss: 8.0590 - acc: 0.5000 - val_loss: 8.0590 - val_acc: 0.5000\n",
      "Epoch 13/30\n",
      "160/160 [==============================] - 16s 98ms/step - loss: 8.0590 - acc: 0.5000 - val_loss: 8.0590 - val_acc: 0.5000\n",
      "Epoch 14/30\n",
      "160/160 [==============================] - 15s 92ms/step - loss: 8.0590 - acc: 0.5000 - val_loss: 8.0590 - val_acc: 0.5000\n",
      "Epoch 15/30\n",
      "160/160 [==============================] - 15s 92ms/step - loss: 8.0590 - acc: 0.5000 - val_loss: 8.0590 - val_acc: 0.5000\n",
      "Epoch 16/30\n",
      "160/160 [==============================] - 15s 93ms/step - loss: 8.0590 - acc: 0.5000 - val_loss: 8.0590 - val_acc: 0.5000\n",
      "Epoch 17/30\n",
      "160/160 [==============================] - 15s 94ms/step - loss: 8.0590 - acc: 0.5000 - val_loss: 8.0590 - val_acc: 0.5000\n",
      "Epoch 18/30\n",
      "160/160 [==============================] - 15s 94ms/step - loss: 8.0590 - acc: 0.5000 - val_loss: 8.0590 - val_acc: 0.5000\n",
      "Epoch 19/30\n",
      "160/160 [==============================] - 15s 93ms/step - loss: 8.0590 - acc: 0.5000 - val_loss: 8.0590 - val_acc: 0.5000\n",
      "Epoch 20/30\n",
      "160/160 [==============================] - 15s 94ms/step - loss: 8.0590 - acc: 0.5000 - val_loss: 8.0590 - val_acc: 0.5000\n",
      "Epoch 21/30\n",
      "160/160 [==============================] - 15s 95ms/step - loss: 8.0590 - acc: 0.5000 - val_loss: 8.0590 - val_acc: 0.5000\n",
      "Epoch 22/30\n",
      "160/160 [==============================] - 15s 95ms/step - loss: 8.0590 - acc: 0.5000 - val_loss: 8.0590 - val_acc: 0.5000\n",
      "Epoch 23/30\n",
      "160/160 [==============================] - 15s 95ms/step - loss: 8.0590 - acc: 0.5000 - val_loss: 8.0590 - val_acc: 0.5000\n",
      "Epoch 24/30\n",
      "160/160 [==============================] - 15s 93ms/step - loss: 8.0590 - acc: 0.5000 - val_loss: 8.0590 - val_acc: 0.5000\n",
      "Epoch 25/30\n",
      "160/160 [==============================] - 15s 92ms/step - loss: 8.0590 - acc: 0.5000 - val_loss: 8.0590 - val_acc: 0.5000\n",
      "Epoch 26/30\n",
      "160/160 [==============================] - 14s 89ms/step - loss: 8.0590 - acc: 0.5000 - val_loss: 8.0590 - val_acc: 0.5000\n",
      "Epoch 27/30\n",
      "160/160 [==============================] - 15s 91ms/step - loss: 8.0590 - acc: 0.5000 - val_loss: 8.0590 - val_acc: 0.5000\n",
      "Epoch 28/30\n",
      "160/160 [==============================] - 15s 91ms/step - loss: 8.0590 - acc: 0.5000 - val_loss: 8.0590 - val_acc: 0.5000\n",
      "Epoch 29/30\n",
      "160/160 [==============================] - 14s 91ms/step - loss: 8.0590 - acc: 0.5000 - val_loss: 8.0590 - val_acc: 0.5000\n",
      "Epoch 30/30\n",
      "160/160 [==============================] - 14s 89ms/step - loss: 8.0590 - acc: 0.5000 - val_loss: 8.0590 - val_acc: 0.5000\n"
     ]
    }
   ],
   "source": [
    "from keras.preprocessing.image import ImageDataGenerator\n",
    "\n",
    "# All images will be rescaled by 1./255\n",
    "\n",
    "train_dir='./cats_and_dogs_small/train'\n",
    "validation_dir='./cats_and_dogs_small/validation'\n",
    "train_datagen = ImageDataGenerator()\n",
    "test_datagen = ImageDataGenerator()\n",
    "\n",
    "\n",
    "train_generator = train_datagen.flow_from_directory(\n",
    "        # This is the target directory\n",
    "        train_dir,\n",
    "        # All images will be resized to 150x150\n",
    "        target_size=(150, 150),\n",
    "        batch_size=20,\n",
    "        # Since we use binary_crossentropy loss, we need binary labels\n",
    "        class_mode='binary')\n",
    "\n",
    "validation_generator = test_datagen.flow_from_directory(\n",
    "        validation_dir,\n",
    "        target_size=(150, 150),\n",
    "        batch_size=20,\n",
    "        class_mode='binary')\n",
    "history = model.fit_generator(\n",
    "      train_generator,\n",
    "      steps_per_epoch=160,\n",
    "      epochs=30,\n",
    "      validation_data=validation_generator,\n",
    "      validation_steps=20)\n"
   ]
  },
  {
   "cell_type": "code",
   "execution_count": 22,
   "metadata": {},
   "outputs": [
    {
     "data": {
      "image/png": "[encoded data removed]",
      "text/plain": [
       "<Figure size 432x288 with 1 Axes>"
      ]
     },
     "metadata": {},
     "output_type": "display_data"
    },
    {
     "data": {
      "image/png": "[encoded data removed]",
      "text/plain": [
       "<Figure size 432x288 with 1 Axes>"
      ]
     },
     "metadata": {},
     "output_type": "display_data"
    }
   ],
   "source": [
    "import matplotlib.pyplot as plt\n",
    "\n",
    "acc = history.history['acc']\n",
    "val_acc = history.history['val_acc']\n",
    "loss = history.history['loss']\n",
    "val_loss = history.history['val_loss']\n",
    "\n",
    "epochs = range(len(acc))\n",
    "\n",
    "plt.plot(epochs, acc, 'bo', label='Training acc')\n",
    "plt.plot(epochs, val_acc, 'b', label='Validation acc')\n",
    "plt.title('Training and validation accuracy')\n",
    "plt.legend()\n",
    "\n",
    "plt.figure()\n",
    "\n",
    "plt.plot(epochs, loss, 'bo', label='Training loss')\n",
    "plt.plot(epochs, val_loss, 'b', label='Validation loss')\n",
    "plt.title('Training and validation loss')\n",
    "plt.legend()\n",
    "\n",
    "plt.show()"
   ]
  },
  {
   "cell_type": "markdown",
   "metadata": {},
   "source": [
    "图1.2 可以看出loss基本上没怎么降,归一化是非常重要的"
   ]
  },
  {
   "cell_type": "markdown",
   "metadata": {},
   "source": [
    "#### 1.3 数据增强"
   ]
  },
  {
   "cell_type": "code",
   "execution_count": 30,
   "metadata": {},
   "outputs": [
    {
     "name": "stdout",
     "output_type": "stream",
     "text": [
      "Found 3200 images belonging to 2 classes.\n",
      "Found 400 images belonging to 2 classes.\n",
      "Epoch 1/30\n",
      "160/160 [==============================] - 32s 203ms/step - loss: 0.6922 - acc: 0.5288 - val_loss: 0.6833 - val_acc: 0.5550\n",
      "Epoch 2/30\n",
      "160/160 [==============================] - 27s 169ms/step - loss: 0.6779 - acc: 0.5650 - val_loss: 0.7459 - val_acc: 0.5100\n",
      "Epoch 3/30\n",
      "160/160 [==============================] - 28s 176ms/step - loss: 0.6550 - acc: 0.6144 - val_loss: 0.7354 - val_acc: 0.5275\n",
      "Epoch 4/30\n",
      "160/160 [==============================] - 28s 176ms/step - loss: 0.6316 - acc: 0.6459 - val_loss: 0.7766 - val_acc: 0.5800\n",
      "Epoch 5/30\n",
      "160/160 [==============================] - 28s 174ms/step - loss: 0.6205 - acc: 0.6522 - val_loss: 0.6726 - val_acc: 0.6250\n",
      "Epoch 6/30\n",
      "160/160 [==============================] - 28s 178ms/step - loss: 0.6091 - acc: 0.6678 - val_loss: 0.6096 - val_acc: 0.6775\n",
      "Epoch 7/30\n",
      "160/160 [==============================] - 28s 176ms/step - loss: 0.5962 - acc: 0.6819 - val_loss: 0.6372 - val_acc: 0.6700\n",
      "Epoch 8/30\n",
      "160/160 [==============================] - 28s 172ms/step - loss: 0.5837 - acc: 0.6934 - val_loss: 0.6607 - val_acc: 0.6275\n",
      "Epoch 9/30\n",
      "160/160 [==============================] - 27s 171ms/step - loss: 0.5760 - acc: 0.6919 - val_loss: 0.5856 - val_acc: 0.6950\n",
      "Epoch 10/30\n",
      "160/160 [==============================] - 28s 173ms/step - loss: 0.5629 - acc: 0.7038 - val_loss: 0.5735 - val_acc: 0.6900\n",
      "Epoch 11/30\n",
      "160/160 [==============================] - 28s 174ms/step - loss: 0.5548 - acc: 0.7178 - val_loss: 0.5967 - val_acc: 0.6925\n",
      "Epoch 12/30\n",
      "160/160 [==============================] - 27s 172ms/step - loss: 0.5427 - acc: 0.7203 - val_loss: 0.6355 - val_acc: 0.6450\n",
      "Epoch 13/30\n",
      "160/160 [==============================] - 29s 180ms/step - loss: 0.5405 - acc: 0.7344 - val_loss: 0.5743 - val_acc: 0.7050\n",
      "Epoch 14/30\n",
      "160/160 [==============================] - 28s 177ms/step - loss: 0.5239 - acc: 0.7250 - val_loss: 0.5742 - val_acc: 0.7200\n",
      "Epoch 15/30\n",
      "160/160 [==============================] - 29s 180ms/step - loss: 0.5325 - acc: 0.7313 - val_loss: 0.5558 - val_acc: 0.7000\n",
      "Epoch 16/30\n",
      "160/160 [==============================] - 28s 175ms/step - loss: 0.5259 - acc: 0.7444 - val_loss: 0.5404 - val_acc: 0.7200\n",
      "Epoch 17/30\n",
      "160/160 [==============================] - 27s 169ms/step - loss: 0.5117 - acc: 0.7469 - val_loss: 0.5312 - val_acc: 0.7275\n",
      "Epoch 18/30\n",
      "160/160 [==============================] - 26s 165ms/step - loss: 0.5067 - acc: 0.7506 - val_loss: 0.5294 - val_acc: 0.7550\n",
      "Epoch 19/30\n",
      "160/160 [==============================] - 27s 169ms/step - loss: 0.5076 - acc: 0.7494 - val_loss: 0.5580 - val_acc: 0.7225\n",
      "Epoch 20/30\n",
      "160/160 [==============================] - 28s 177ms/step - loss: 0.4993 - acc: 0.7534 - val_loss: 0.5178 - val_acc: 0.7400\n",
      "Epoch 21/30\n",
      "160/160 [==============================] - 27s 172ms/step - loss: 0.5124 - acc: 0.7469 - val_loss: 0.5305 - val_acc: 0.7425\n",
      "Epoch 22/30\n",
      "160/160 [==============================] - 27s 166ms/step - loss: 0.4969 - acc: 0.7600 - val_loss: 0.5164 - val_acc: 0.7650\n",
      "Epoch 23/30\n",
      "160/160 [==============================] - 26s 163ms/step - loss: 0.4949 - acc: 0.7591 - val_loss: 0.5186 - val_acc: 0.7700\n",
      "Epoch 24/30\n",
      "160/160 [==============================] - 26s 165ms/step - loss: 0.4824 - acc: 0.7628 - val_loss: 0.5347 - val_acc: 0.7400\n",
      "Epoch 25/30\n",
      "160/160 [==============================] - 26s 164ms/step - loss: 0.4848 - acc: 0.7650 - val_loss: 0.5315 - val_acc: 0.7575\n",
      "Epoch 26/30\n",
      "160/160 [==============================] - 27s 169ms/step - loss: 0.4796 - acc: 0.7681 - val_loss: 0.5483 - val_acc: 0.7500\n",
      "Epoch 27/30\n",
      "160/160 [==============================] - 26s 165ms/step - loss: 0.4822 - acc: 0.7666 - val_loss: 0.4758 - val_acc: 0.7750\n",
      "Epoch 28/30\n",
      "160/160 [==============================] - 26s 164ms/step - loss: 0.4688 - acc: 0.7750 - val_loss: 0.5542 - val_acc: 0.7400\n",
      "Epoch 29/30\n",
      "160/160 [==============================] - 26s 160ms/step - loss: 0.4618 - acc: 0.7822 - val_loss: 0.5172 - val_acc: 0.7350\n",
      "Epoch 30/30\n",
      "160/160 [==============================] - 26s 160ms/step - loss: 0.4751 - acc: 0.7809 - val_loss: 0.5851 - val_acc: 0.6900\n"
     ]
    }
   ],
   "source": [
    "from keras.preprocessing.image import ImageDataGenerator\n",
    "\n",
    "# All images will be rescaled by 1./255\n",
    "\n",
    "train_dir='./cats_and_dogs_small/train'\n",
    "validation_dir='./cats_and_dogs_small/validation'\n",
    "train_datagen = ImageDataGenerator(rescale=1./255,\n",
    "    rotation_range=40,\n",
    "    width_shift_range=0.2,\n",
    "    height_shift_range=0.2,\n",
    "    shear_range=0.2,\n",
    "    zoom_range=0.2,\n",
    "    horizontal_flip=True)\n",
    "test_datagen = ImageDataGenerator(rescale=1./255)\n",
    "\n",
    "train_generator = train_datagen.flow_from_directory(\n",
    "        # This is the target directory\n",
    "        train_dir,\n",
    "        # All images will be resized to 150x150\n",
    "        target_size=(150, 150),\n",
    "        batch_size=20,\n",
    "        # Since we use binary_crossentropy loss, we need binary labels\n",
    "        class_mode='binary')\n",
    "\n",
    "validation_generator = test_datagen.flow_from_directory(\n",
    "        validation_dir,\n",
    "        target_size=(150, 150),\n",
    "        batch_size=20,\n",
    "        class_mode='binary')\n",
    "history = model.fit_generator(\n",
    "      train_generator,\n",
    "      steps_per_epoch=160,\n",
    "      epochs=30,\n",
    "      validation_data=validation_generator,\n",
    "      validation_steps=20)\n"
   ]
  },
  {
   "cell_type": "code",
   "execution_count": 31,
   "metadata": {},
   "outputs": [
    {
     "data": {
      "image/png": "[encoded data removed]",
      "text/plain": [
       "<Figure size 432x288 with 1 Axes>"
      ]
     },
     "metadata": {},
     "output_type": "display_data"
    },
    {
     "data": {
      "image/png": "[encoded data removed]",
      "text/plain": [
       "<Figure size 432x288 with 1 Axes>"
      ]
     },
     "metadata": {},
     "output_type": "display_data"
    }
   ],
   "source": [
    "import matplotlib.pyplot as plt\n",
    "\n",
    "acc = history.history['acc']\n",
    "val_acc = history.history['val_acc']\n",
    "loss = history.history['loss']\n",
    "val_loss = history.history['val_loss']\n",
    "\n",
    "epochs = range(len(acc))\n",
    "\n",
    "plt.plot(epochs, acc, 'bo', label='Training acc')\n",
    "plt.plot(epochs, val_acc, 'b', label='Validation acc')\n",
    "plt.title('Training and validation accuracy')\n",
    "plt.legend()\n",
    "\n",
    "plt.figure()\n",
    "\n",
    "plt.plot(epochs, loss, 'bo', label='Training loss')\n",
    "plt.plot(epochs, val_loss, 'b', label='Validation loss')\n",
    "plt.title('Training and validation loss')\n",
    "plt.legend()\n",
    "\n",
    "plt.show()"
   ]
  },
  {
   "cell_type": "markdown",
   "metadata": {},
   "source": [
    "图1.3   \n",
    "尚未收敛(应增大epochs)，数据增强后验证集的准确率和loss都是紧紧攀附的，模型应该继续训练能够达到更高的准确率和更小的loss，另外，也可以在Dense全连接层之前添加Dropout减少过拟合的程度"
   ]
  },
  {
   "cell_type": "code",
   "execution_count": null,
   "metadata": {},
   "outputs": [],
   "source": []
  }
 ],
 "metadata": {
  "kernelspec": {
   "display_name": "Python 3",
   "language": "python",
   "name": "python3"
  },
  "language_info": {
   "codemirror_mode": {
    "name": "ipython",
    "version": 3
   },
   "file_extension": ".py",
   "mimetype": "text/x-python",
   "name": "python",
   "nbconvert_exporter": "python",
   "pygments_lexer": "ipython3",
   "version": "3.6.5"
  }
 },
 "nbformat": 4,
 "nbformat_minor": 2
}
