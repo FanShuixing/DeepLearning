{
 "cells": [
  {
   "cell_type": "markdown",
   "metadata": {},
   "source": [
    "## [Deep High-Resolution Representation Learning for Human Pose Estimation](https://arxiv.org/abs/1902.09212)\n",
    "\n",
    "1. 数据处理  \n",
    "  调用模型的train_loader,\n",
    "```ruby\n",
    "batch_iter=iter(train_loader)\n",
    "input,target,target_weight,meta=next(batch_iter)\n",
    "```\n",
    "\n",
    " batch_size=48  \n",
    " 返回的size分别为(48,3,256,256),(48,16,64,64),(48,16,1),  \n",
    " meta返回的value类型为dict,其keys为'images','filename','imgnum','joints','joints_vis','center','scale','rotaton','score'\n",
    "\n",
    "2. 构建模型   \n",
    "  ```ruby\n",
    "    model=models.pose_hrnet.get_pose_net(cfg,is_train=True)\n",
    "    outputs=model(input)\n",
    "```\n",
    "\n",
    " 模型输入:input,size:(batch_size,3,256,256)   \n",
    " 输出为:outputs，type为tensor,size:(batch_size,16,64,64)\n",
    " \n",
    "3. 损失函数   \n",
    "\n",
    " ```ruby\n",
    "criterion=JointsMSELoss(use_target_weight=cfg.LOSS.USE_TARGET_WEIGHT).cuda()\n",
    "if isinstance(outputs, list):\n",
    "        loss = criterion(outputs[0], target, target_weight)\n",
    "        for output in outputs[1:]:\n",
    "                loss += criterion(output, target, target_weight)\n",
    "else:\n",
    "        output = outputs\n",
    "        loss = criterion(output, target, target_weight)\n",
    "```\n",
    "\n",
    "## Details\n",
    "### 1.数据处理\n",
    "Image_process.ipynb有详细步骤\n",
    "\n",
    "### 2.构建模型\n",
    "\n",
    "\n",
    "\n",
    "### 3.损失函数\n",
    "用的是MSE，模型的输出是outputs:(48,16,64,64).target:(48,16,64,64).\n",
    "```ruby\n",
    "input:outputs,target\n",
    "    criterion=nn.MSELoss()\n",
    "\n",
    "step1: 将 outputs 和 target变换为(48,16,4096) \n",
    "step2: make outputs and target ->tuple,tuple里面有16个size为(48,1,4096)的tensor\n",
    "step3: for i in range(num_joints):\n",
    "            make outputs and target -> (48,4096)\n",
    "            loss+=0.5*criterion(outputs,target) or loss+=0.5*criterion(outputs*target_weight,target*target_weight)\n",
    "            \n",
    "\n",
    "```\n",
    "\n",
    "## HOW to run\n",
    "\n"
   ]
  },
  {
   "cell_type": "code",
   "execution_count": null,
   "metadata": {},
   "outputs": [],
   "source": []
  }
 ],
 "metadata": {
  "kernelspec": {
   "display_name": "Python 3",
   "language": "python",
   "name": "python3"
  },
  "language_info": {
   "codemirror_mode": {
    "name": "ipython",
    "version": 3
   },
   "file_extension": ".py",
   "mimetype": "text/x-python",
   "name": "python",
   "nbconvert_exporter": "python",
   "pygments_lexer": "ipython3",
   "version": "3.6.5"
  }
 },
 "nbformat": 4,
 "nbformat_minor": 2
}
