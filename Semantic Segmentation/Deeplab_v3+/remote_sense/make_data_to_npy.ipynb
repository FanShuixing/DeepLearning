{
 "cells": [
  {
   "cell_type": "code",
   "execution_count": 2,
   "metadata": {},
   "outputs": [
    {
     "name": "stdout",
     "output_type": "stream",
     "text": [
      "Collecting libtiff\n",
      "\u001b[?25l  Downloading https://files.pythonhosted.org/packages/18/8f/b844284d43d385c08967b25eb76f625a5f06490cc4680e17644587053756/libtiff-0.4.2.tar.gz (129kB)\n",
      "\u001b[K    100% |████████████████████████████████| 133kB 342kB/s ta 0:00:01\n",
      "\u001b[?25hBuilding wheels for collected packages: libtiff\n",
      "  Running setup.py bdist_wheel for libtiff ... \u001b[?25ldone\n",
      "\u001b[?25h  Stored in directory: /root/.cache/pip/wheels/7c/ce/79/9c7115224f798f73bdbd2c23e06c6fa048adcca7041b9fd104\n",
      "Successfully built libtiff\n",
      "\u001b[31mmenpo 0.8.1 has requirement matplotlib<2.0,>=1.4, but you'll have matplotlib 2.2.3 which is incompatible.\u001b[0m\n",
      "\u001b[31mmenpo 0.8.1 has requirement pillow<5.0,>=3.0, but you'll have pillow 5.2.0 which is incompatible.\u001b[0m\n",
      "\u001b[31mmenpo 0.8.1 has requirement scipy<1.0,>=0.16, but you'll have scipy 1.1.0 which is incompatible.\u001b[0m\n",
      "Installing collected packages: libtiff\n",
      "Successfully installed libtiff-0.4.2\n",
      "\u001b[33mYou are using pip version 10.0.1, however version 19.0.2 is available.\n",
      "You should consider upgrading via the 'pip install --upgrade pip' command.\u001b[0m\n"
     ]
    }
   ],
   "source": [
    "!pip3 install libtiff"
   ]
  },
  {
   "cell_type": "code",
   "execution_count": 7,
   "metadata": {},
   "outputs": [
    {
     "name": "stdout",
     "output_type": "stream",
     "text": [
      "['/images/01_4bands.tif', '/images/02_4bands.tif', '/images/03_4bands.tif', '/images/04_4bands.tif', '/images/05_4bands.tif', '/images/06_4bands.tif', '/images/07_4bands.tif', '/images/08_4bands.tif', '/images/09_4bands.tif', '/images/10_4bands.tif', '/images/11_4bands.tif', '/images/12_4bands.tif', '/images/13_4bands.tif', '/images/14_4bands.tif', '/images/15_4bands.tif', '/images/16_4bands.tif', '/images/17_4bands.tif', '/images/18_4bands.tif', '/images/19_4bands.tif', '/images/20_4bands.tif', '/images/21_4bands.tif', '/images/22_4bands.tif', '/images/23_4bands.tif', '/images/24_4bands.tif', '/images/25_4bands.tif', '/images/26_4bands.tif', '/images/27_4bands.tif', '/images/28_4bands.tif', '/images/29_4bands.tif', '/images/30_4bands.tif', '/images/31_4bands.tif', '/images/32_4bands.tif', '/images/33_4bands.tif', '/images/34_4bands.tif', '/images/35_4bands.tif', '/images/36_4bands.tif', '/images/37_4bands.tif', '/images/38_4bands.tif', '/images/39_4bands.tif', '/images/40_4bands.tif', '/images/41_4bands.tif', '/images/42_4bands.tif', '/images/43_4bands.tif', '/images/44_4bands.tif', '/images/45_4bands.tif', '/images/46_4bands.tif', '/images/47_4bands.tif', '/images/48_4bands.tif', '/images/49_4bands.tif', '/images/50_4bands.tif', '/images/51_4bands.tif', '/images/52_4bands.tif', '/images/53_4bands.tif', '/images/54_4bands.tif', '/images/55_4bands.tif', '/images/56_4bands.tif', '/images/57_4bands.tif', '/images/58_4bands.tif', '/images/59_4bands.tif', '/images/60_4bands.tif', '/images/61_4bands.tif', '/images/62_4bands.tif', '/images/63_4bands.tif', '/images/64_4bands.tif', '/images/65_4bands.tif', '/images/66_4bands.tif', '/images/67_4bands.tif', '/images/68_4bands.tif', '/images/69_4bands.tif']\n",
      "e_mask.shape (193, 224, 224, 2)\n"
     ]
    }
   ],
   "source": [
    "# coding:utf-8\n",
    "# import gdal\n",
    "import numpy as np\n",
    "import os\n",
    "from libtiff import TIFF\n",
    "\n",
    "unit_width = 224  # 每个小图片的长和宽（正方形）\n",
    "file_dir = '/input0/yuanyang_land/data'\n",
    "\n",
    "\n",
    "def readTif(file_name, isMask=False):\n",
    "    tif = TIFF.open(file_dir + file_name)\n",
    "\n",
    "    image = tif.read_image()\n",
    "    im_width = image.shape[0]\n",
    "    im_height = image.shape[1]\n",
    "    im_bands = 1\n",
    "    if not isMask:\n",
    "        im_width = image.shape[0]\n",
    "        im_height = image.shape[1]\n",
    "        im_bands = image.shape[2]\n",
    "        image = image.swapaxes(0, 2)\n",
    "        im_data = image.swapaxes(1, 2)\n",
    "        image = im_data\n",
    "\n",
    "    return {'width': im_width, 'height': im_height, 'band_num': im_bands, 'data': image}\n",
    "\n",
    "\n",
    "def divide(img, mask, size, stride):\n",
    "    imgs, labels = [], []\n",
    "    bands, height, width = img['band_num'], img['height'], img['width']\n",
    "    for row in range(0, height, stride):\n",
    "        for col in range(0, width, stride):\n",
    "            if row + size > height or col + size > width:\n",
    "                continue\n",
    "            feature = []\n",
    "            for band_id in range(bands):\n",
    "                feature.append(img['data'][band_id, row:row + size, col:col + size])\n",
    "            label = mask['data'][row:row + size, col: col + size]\n",
    "            imgs.append(feature)\n",
    "            labels.append(label)\n",
    "    return np.array(imgs), labels\n",
    "\n",
    "\n",
    "def get_data():\n",
    "    img_names = ['/images/%02d_4bands.tif' % i for i in range(1, 70)]\n",
    "    mask_names = ['/labels/%02d_4bands_mask.tif' % i for i in range(1, 70)]\n",
    "    print(img_names)\n",
    "    xs, ys = [], []\n",
    "    for (img, mask) in zip(img_names, mask_names):\n",
    "        img = readTif(img)\n",
    "        mask = readTif(mask, True)\n",
    "        imgs, labels = divide(img, mask, 224, 100)  # 后两个参数为图片尺寸和步长\n",
    "        #         print('2', imgs.shape)\n",
    "        for img, label in zip(imgs, labels):\n",
    "            xs.append(img)\n",
    "            ys.append(label)\n",
    "    return xs, ys\n",
    "\n",
    "\n",
    "xs, ys = get_data()\n",
    "\n",
    "ys = np.array(ys)\n",
    "orishape = ys.shape\n",
    "ys = ys.reshape(-1)\n",
    "unique_num = {v: i for i, v in enumerate(np.unique(ys))}\n",
    "for i, v in enumerate(ys):\n",
    "    ys[i] = unique_num[v]\n",
    "ys = ys.reshape(orishape)\n",
    "xs = np.asarray(xs)\n",
    "ys = np.asarray(ys)\n",
    "pi = np.random.permutation(xs.shape[0])\n",
    "xs, ys = xs[pi], ys[pi]\n",
    "bound = int(len(ys) * 0.8)\n",
    "\n",
    "new_mask = np.zeros(ys.shape + (2,))\n",
    "for i in range(2):\n",
    "    new_mask[ys == i, i] = 1\n",
    "ys = new_mask.astype('int32')\n",
    "\n",
    "if not os.path.exists('./data'):\n",
    "    os.mkdir('./data')\n",
    "\n",
    "np.save('./data/train_image.npy', xs[:bound])\n",
    "np.save('./data/train_annotation.npy', ys[:bound])\n",
    "np.save('./data/validation_image.npy', xs[bound:])\n",
    "np.save('./data/validation_annotation.npy', ys[bound:])\n",
    "\n",
    "e_mask = np.load('./data/demo_data/train_annotation.npy')\n",
    "print('e_mask.shape', e_mask.shape)"
   ]
  },
  {
   "cell_type": "code",
   "execution_count": null,
   "metadata": {},
   "outputs": [],
   "source": []
  }
 ],
 "metadata": {
  "kernelspec": {
   "display_name": "Python 3",
   "language": "python",
   "name": "python3"
  },
  "language_info": {
   "codemirror_mode": {
    "name": "ipython",
    "version": 3
   },
   "file_extension": ".py",
   "mimetype": "text/x-python",
   "name": "python",
   "nbconvert_exporter": "python",
   "pygments_lexer": "ipython3",
   "version": "3.6.5"
  }
 },
 "nbformat": 4,
 "nbformat_minor": 2
}
