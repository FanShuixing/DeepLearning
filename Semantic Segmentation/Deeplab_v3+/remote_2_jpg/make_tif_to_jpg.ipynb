{
 "cells": [
  {
   "cell_type": "code",
   "execution_count": 1,
   "metadata": {},
   "outputs": [
    {
     "name": "stdout",
     "output_type": "stream",
     "text": [
      "train_mask.shape (7514, 224, 224, 4)\n",
      "train_annotation.shape (7514, 224, 224)\n",
      "7514\n"
     ]
    }
   ],
   "source": [
    "import numpy as np\n",
    "import cv2\n",
    "\n",
    "train_image=np.load('./data/train_image.npy').swapaxes(1,2).swapaxes(2,3)\n",
    "print('train_mask.shape',train_image.shape)\n",
    "\n",
    "train_annotation=np.load('./data/train_annotation.npy')\n",
    "print('train_annotation.shape',train_annotation.shape)\n",
    "num_samples=train_image.shape[0]\n",
    "print(num_samples)"
   ]
  },
  {
   "cell_type": "code",
   "execution_count": null,
   "metadata": {},
   "outputs": [],
   "source": [
    "for i in range(num_samples):\n",
    "    print('正在处理第%d张图片'%i)\n",
    "    ori_img=train_image[i,:,:,:]\n",
    "    rgb_img=ori_img[:,:,:3]\n",
    "    max=np.max(rgb_img)\n",
    "    rgb_img=(rgb_img/max)*255.\n",
    "    cv2.imwrite('./data4/train/images/images_%04d.jpg'%i,rgb_img)\n",
    "    \n",
    "for j in range(num_samples):\n",
    "    print('正在处理第%d张图片'%j)\n",
    "    mask=train_annotation[j,:,:]\n",
    "#     mask=mask[:,:,]\n",
    "    # mask.shape\n",
    "    mask=np.uint(mask*255)\n",
    "#     print(mask)\n",
    "    cv2.imwrite('./data4/train/labels/masks_%04d.png'%j, mask)"
   ]
  },
  {
   "cell_type": "code",
   "execution_count": 5,
   "metadata": {},
   "outputs": [
    {
     "name": "stdout",
     "output_type": "stream",
     "text": [
      "train_mask.shape (835, 224, 224, 4)\n",
      "train_annotation.shape (835, 224, 224)\n",
      "835\n"
     ]
    }
   ],
   "source": [
    "import numpy as np\n",
    "import cv2\n",
    "\n",
    "train_image=np.load('./data/validation_image.npy').swapaxes(1,2).swapaxes(2,3)\n",
    "print('train_mask.shape',train_image.shape)\n",
    "\n",
    "train_annotation=np.load('./data/validation_annotation.npy')\n",
    "print('train_annotation.shape',train_annotation.shape)\n",
    "num_samples=train_image.shape[0]\n",
    "print(num_samples)"
   ]
  },
  {
   "cell_type": "code",
   "execution_count": null,
   "metadata": {},
   "outputs": [],
   "source": [
    "for i in range(num_samples):\n",
    "    print('正在处理第%d张图片'%i)\n",
    "    ori_img=train_image[i,:,:,:]\n",
    "    rgb_img=ori_img[:,:,:3]\n",
    "    max=np.max(rgb_img)\n",
    "    rgb_img=(rgb_img/max)*255.\n",
    "    cv2.imwrite('./data4/val/images/images_%04d.jpg'%i,rgb_img)\n",
    "    \n",
    "for j in range(num_samples):\n",
    "    print('正在处理第%d张图片'%j)\n",
    "    mask=train_annotation[j,:,:]\n",
    "#     mask=mask[:,:,]\n",
    "    # mask.shape\n",
    "    mask=np.uint(mask*255)\n",
    "#     print(mask)\n",
    "    cv2.imwrite('./data4/val/labels/masks_%04d.png'%j, mask)"
   ]
  },
  {
   "cell_type": "code",
   "execution_count": null,
   "metadata": {},
   "outputs": [],
   "source": []
  }
 ],
 "metadata": {
  "kernelspec": {
   "display_name": "Python 3",
   "language": "python",
   "name": "python3"
  },
  "language_info": {
   "codemirror_mode": {
    "name": "ipython",
    "version": 3
   },
   "file_extension": ".py",
   "mimetype": "text/x-python",
   "name": "python",
   "nbconvert_exporter": "python",
   "pygments_lexer": "ipython3",
   "version": "3.6.5"
  }
 },
 "nbformat": 4,
 "nbformat_minor": 2
}
