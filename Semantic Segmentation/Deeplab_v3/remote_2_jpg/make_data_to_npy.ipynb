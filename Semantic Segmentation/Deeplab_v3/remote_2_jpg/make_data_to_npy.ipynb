{
 "cells": [
  {
   "cell_type": "markdown",
   "metadata": {},
   "source": [
    "#### 遥感图像通常很大，要对图像进行切割，并保存，可以直接保存图像的numpy数组。对于mask图像，我们通常要把它转换为one_hot形式，本次实验的数据是23分类，可若是将mask保存为（None,224,224,23）太占内存，所以在保存mask的时候，我们保存的是(None,224,224)的形式，其中像素值是0~22，每个位置的像素值代表这个像素的类别。"
   ]
  },
  {
   "cell_type": "code",
   "execution_count": 1,
   "metadata": {},
   "outputs": [
    {
     "name": "stdout",
     "output_type": "stream",
     "text": [
      "['images/01_4bands.tif', 'images/02_4bands.tif', 'images/03_4bands.tif', 'images/04_4bands.tif', 'images/05_4bands.tif', 'images/06_4bands.tif', 'images/07_4bands.tif', 'images/08_4bands.tif', 'images/09_4bands.tif', 'images/10_4bands.tif', 'images/11_4bands.tif', 'images/12_4bands.tif', 'images/13_4bands.tif', 'images/14_4bands.tif', 'images/15_4bands.tif', 'images/16_4bands.tif', 'images/17_4bands.tif', 'images/18_4bands.tif', 'images/19_4bands.tif', 'images/20_4bands.tif', 'images/21_4bands.tif', 'images/22_4bands.tif', 'images/23_4bands.tif', 'images/24_4bands.tif', 'images/25_4bands.tif', 'images/26_4bands.tif', 'images/27_4bands.tif', 'images/28_4bands.tif', 'images/29_4bands.tif', 'images/30_4bands.tif', 'images/31_4bands.tif', 'images/32_4bands.tif', 'images/33_4bands.tif', 'images/34_4bands.tif', 'images/35_4bands.tif', 'images/36_4bands.tif', 'images/37_4bands.tif', 'images/38_4bands.tif', 'images/39_4bands.tif', 'images/40_4bands.tif', 'images/41_4bands.tif', 'images/42_4bands.tif', 'images/43_4bands.tif', 'images/44_4bands.tif', 'images/45_4bands.tif', 'images/46_4bands.tif', 'images/47_4bands.tif', 'images/48_4bands.tif', 'images/49_4bands.tif', 'images/50_4bands.tif', 'images/51_4bands.tif', 'images/52_4bands.tif', 'images/53_4bands.tif', 'images/54_4bands.tif', 'images/55_4bands.tif', 'images/56_4bands.tif', 'images/57_4bands.tif', 'images/58_4bands.tif', 'images/59_4bands.tif', 'images/60_4bands.tif', 'images/61_4bands.tif', 'images/62_4bands.tif', 'images/63_4bands.tif', 'images/64_4bands.tif', 'images/65_4bands.tif', 'images/66_4bands.tif', 'images/67_4bands.tif', 'images/68_4bands.tif', 'images/69_4bands.tif']\n",
      "train_mask.shape (7514, 224, 224)\n"
     ]
    }
   ],
   "source": [
    "\n",
    "import numpy as np\n",
    "import os\n",
    "from libtiff import TIFF\n",
    "from skimage import io\n",
    "\n",
    "unit_width = 224  # 每个小图片的长和宽（正方形）\n",
    "file_dir = '/input0/yuanyang_land/data/'\n",
    "\n",
    "def readTif(file_name, isMask=False):\n",
    "    '''\n",
    "    读取一张tif格式的图片，返回图片的宽、高、通道数目、图片的array\n",
    "    注：用io.imread()读取tif和用\n",
    "    '''\n",
    "    image=io.imread(file_dir+file_name)\n",
    "    im_width = image.shape[1]\n",
    "    im_height = image.shape[0]\n",
    "    im_bands = 1\n",
    "    if not isMask:\n",
    "        im_width = image.shape[1]\n",
    "        im_height = image.shape[0]\n",
    "        im_bands = image.shape[2]\n",
    "        image = image.swapaxes(0, 2)\n",
    "        im_data = image.swapaxes(1, 2)\n",
    "        image = im_data\n",
    "#     print('readtif: image.shape',image.shape) #(4,3953,2833)(通道，高，宽) mask:(3952,2832)(高，宽)\n",
    "    return {'width': im_width, 'height': im_height, 'band_num': im_bands, 'data': image}\n",
    "\n",
    "\n",
    "def divide(img, mask, size, stride):\n",
    "    #输入的图片是一张遥感大图,宽高分别以stride为步长，进行divide,如果size=224,stride=100,则每次以100为步长\n",
    "    #将图片切割成（224,224）大小,当stride<size时，切割的图片是有重叠部分的，size越小，重叠的部分越多，当stride>size时，\n",
    "    #切割的部分没有重叠，而且图片的有些部分甚至没有被保留下来\n",
    "    #size:224,stride:100\n",
    "    #img['data'].shape:(4,3953,2833)\n",
    "    imgs, labels = [], []\n",
    "    bands, height, width = img['band_num'], img['height'], img['width']\n",
    "#     print('height',height,'stride',stride,'width',width)\n",
    "#     print(\"img['data'].shape\",img['data'].shape)#(4,3953,2833)\n",
    "    for row in range(0, height, stride):\n",
    "        for col in range(0, width, stride):\n",
    "            if row + size > height or col + size > width:\n",
    "                continue\n",
    "            feature = []\n",
    "            for band_id in range(bands):\n",
    "                #feature里面apppend的大小是（224,224）\n",
    "                feature.append(img['data'][band_id, row:row + size, col:col + size])\n",
    "#                 print('2',img['data'][band_id, row:row + size, col:col + size].shape)\n",
    "\n",
    "            label = mask['data'][row:row + size, col: col + size]\n",
    "            imgs.append(feature)\n",
    "            labels.append(label)\n",
    "\n",
    "    imgs=np.array(imgs)\n",
    "#     print('divide:','imgs.shape',imgs.shape)\n",
    "    return imgs, labels\n",
    "\n",
    "\n",
    "def get_data():\n",
    "    '''\n",
    "    输入的是所有images和mask的名字，返回的是经过切割后的数组（None,bands,224,224）,(None,224,224)\n",
    "    '''\n",
    "    img_names=['images/%02d_4bands.tif'%i for i in range(1,70)]\n",
    "    mask_names=['labels/%02d_4bands_mask.tif'%i for i in range(1,70)]\n",
    "    print(img_names)\n",
    "    xs, ys = [], []\n",
    "    for (img, mask) in zip(img_names, mask_names):\n",
    "        img = readTif(img)\n",
    "        mask = readTif(mask, True)\n",
    "        imgs, labels = divide(img, mask, 224,100)  # 后两个参数为图片尺寸和步长\n",
    "        for img, label in zip(imgs, labels):\n",
    "            xs.append(img)\n",
    "            ys.append(label)\n",
    "    xs=np.array(xs)\n",
    "    ys=np.array(ys)\n",
    "    return xs, ys\n",
    "\n",
    "\n",
    "xs, ys = get_data()\n",
    "\n",
    "orishape = ys.shape\n",
    "\n",
    "#(None*224*224,)\n",
    "#首先将mask转化为一维的数组，unique_num是value和索引对，比如mask里面原来有一个像素为3，给它分配一个索引0，然后将二维的mask转换为\n",
    "# 索引后的数组,eg：如果里面是23分类，则mask已经转化为里面的元素只有0～22的数组\n",
    "ys = ys.reshape(-1)\n",
    "unique_num = {v: i for i, v in enumerate(np.unique(ys))}\n",
    "for i, v in enumerate(ys):\n",
    "    ys[i] = unique_num[v]\n",
    "ys = ys.reshape(orishape)\n",
    "\n",
    "#pi会返回一个数组，这个数组里面的数<xs.shape[0]，然后可以根据pi打乱xs和ys数组里面的排序\n",
    "pi = np.random.permutation(xs.shape[0])\n",
    "xs, ys = xs[pi], ys[pi]\n",
    "bound = int(len(ys)*0.9)\n",
    "np.save('./data/train_image.npy', xs[:bound])\n",
    "np.save('./data/train_annotation.npy', ys[:bound])\n",
    "np.save('./data/validation_image.npy', xs[bound:])\n",
    "np.save('./data/validation_annotation.npy', ys[bound:])\n",
    "\n",
    "train_mask=np.load('./data/train_annotation.npy')\n",
    "print('train_mask.shape',train_mask.shape)"
   ]
  },
  {
   "cell_type": "code",
   "execution_count": 4,
   "metadata": {},
   "outputs": [
    {
     "name": "stdout",
     "output_type": "stream",
     "text": [
      "train_mask.shape (835, 224, 224)\n"
     ]
    }
   ],
   "source": [
    "import numpy as np\n",
    "train_mask=np.load('./data/validation_annotation.npy')\n",
    "print('train_mask.shape',train_mask.shape)"
   ]
  },
  {
   "cell_type": "code",
   "execution_count": 5,
   "metadata": {},
   "outputs": [
    {
     "name": "stdout",
     "output_type": "stream",
     "text": [
      "train_mask.shape (7514, 224, 224)\n"
     ]
    }
   ],
   "source": [
    "train_mask=np.load('./data/train_annotation.npy')\n",
    "print('train_mask.shape',train_mask.shape)"
   ]
  },
  {
   "cell_type": "code",
   "execution_count": 6,
   "metadata": {},
   "outputs": [
    {
     "name": "stdout",
     "output_type": "stream",
     "text": [
      "train_mask.shape (7514, 4, 224, 224)\n"
     ]
    }
   ],
   "source": [
    "train_mask=np.load('./data/train_image.npy')\n",
    "print('train_mask.shape',train_mask.shape)"
   ]
  },
  {
   "cell_type": "code",
   "execution_count": null,
   "metadata": {},
   "outputs": [],
   "source": []
  }
 ],
 "metadata": {
  "kernelspec": {
   "display_name": "Python 3",
   "language": "python",
   "name": "python3"
  },
  "language_info": {
   "codemirror_mode": {
    "name": "ipython",
    "version": 3
   },
   "file_extension": ".py",
   "mimetype": "text/x-python",
   "name": "python",
   "nbconvert_exporter": "python",
   "pygments_lexer": "ipython3",
   "version": "3.6.5"
  }
 },
 "nbformat": 4,
 "nbformat_minor": 2
}
