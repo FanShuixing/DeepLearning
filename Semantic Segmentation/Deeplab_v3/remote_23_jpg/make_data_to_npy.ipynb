{
 "cells": [
  {
   "cell_type": "markdown",
   "metadata": {},
   "source": [
    "#### 遥感图像通常很大，要对图像进行切割，并保存，可若是将图像切割后保存为图像，这样会很占内存，可以直接保存图像的numpy数组。对于mask图像，我们通常要把它转换为one_hot形式，本次实验的数据是23分类，可若是将mask保存为（None,224,224,23）太占内存，所以在保存mask的时候，我们保存的是(None,224,224)的形式，其中像素值是0~22，每个位置的像素值代表这个像素的类别。"
   ]
  },
  {
   "cell_type": "code",
   "execution_count": 52,
   "metadata": {},
   "outputs": [
    {
     "name": "stdout",
     "output_type": "stream",
     "text": [
      "['01.tif', '02.tif', '03.tif', '04.tif', '05.tif', '06.tif', '07.tif', '08.tif', '09.tif', '10.tif', '11.tif', '12.tif', '13.tif', '14.tif']\n"
     ]
    },
    {
     "name": "stderr",
     "output_type": "stream",
     "text": [
      "/usr/local/lib/python3.6/site-packages/skimage/external/tifffile/tifffile.py:2579: UserWarning: invalid tile data\n",
      "  warnings.warn(\"invalid tile data\")\n",
      "/usr/local/lib/python3.6/site-packages/skimage/external/tifffile/tifffile.py:2546: UserWarning: unpack: string size must be a multiple of element size\n",
      "  warnings.warn(\"unpack: %s\" % e)\n"
     ]
    },
    {
     "name": "stdout",
     "output_type": "stream",
     "text": [
      "(7049, 4, 224, 224) (7049, 224, 224)\n"
     ]
    }
   ],
   "source": [
    "\n",
    "import numpy as np\n",
    "import os\n",
    "# from libtiff import TIFF\n",
    "from skimage import io\n",
    "\n",
    "unit_width = 224  # 每个小图片的长和宽（正方形）\n",
    "file_dir = '/input0/4bands/'\n",
    "\n",
    "def readTif(file_name, isMask=False):\n",
    "    '''\n",
    "    读取一张tif格式的图片，返回图片的宽、高、通道数目、图片的array\n",
    "    注：用io.imread()读取tif和用\n",
    "    '''\n",
    "    image=io.imread(file_dir+file_name)\n",
    "    im_width = image.shape[1]\n",
    "    im_height = image.shape[0]\n",
    "    im_bands = 1\n",
    "    if not isMask:\n",
    "        im_width = image.shape[1]\n",
    "        im_height = image.shape[0]\n",
    "        im_bands = image.shape[2]\n",
    "        image = image.swapaxes(0, 2)\n",
    "        im_data = image.swapaxes(1, 2)\n",
    "        image = im_data\n",
    "#     print('readtif: image.shape',image.shape) #(4,3953,2833)(通道，高，宽) mask:(3952,2832)(高，宽)\n",
    "    return {'width': im_width, 'height': im_height, 'band_num': im_bands, 'data': image}\n",
    "\n",
    "\n",
    "def divide(img, mask, size, stride):\n",
    "    #输入的图片是一张遥感大图,宽高分别以stride为步长，进行divide,如果size=224,stride=100,则每次以100为步长\n",
    "    #将图片切割成（224,224）大小,当stride<size时，切割的图片是有重叠部分的，size越小，重叠的部分越多，当stride>size时，\n",
    "    #切割的部分没有重叠，而且图片的有些部分甚至没有被保留下来\n",
    "    #size:224,stride:100\n",
    "    #img['data'].shape:(4,3953,2833)\n",
    "    imgs, labels = [], []\n",
    "    bands, height, width = img['band_num'], img['height'], img['width']\n",
    "#     print('height',height,'stride',stride,'width',width)\n",
    "#     print(\"img['data'].shape\",img['data'].shape)#(4,3953,2833)\n",
    "    for row in range(0, height, stride):\n",
    "        for col in range(0, width, stride):\n",
    "            if row + size > height or col + size > width:\n",
    "                continue\n",
    "            feature = []\n",
    "            for band_id in range(bands):\n",
    "                #feature里面apppend的大小是（224,224）\n",
    "                feature.append(img['data'][band_id, row:row + size, col:col + size])\n",
    "#                 print('2',img['data'][band_id, row:row + size, col:col + size].shape)\n",
    "\n",
    "            label = mask['data'][row:row + size, col: col + size]\n",
    "            imgs.append(feature)\n",
    "            labels.append(label)\n",
    "\n",
    "    imgs=np.array(imgs)\n",
    "#     print('divide:','imgs.shape',imgs.shape)\n",
    "    return imgs, labels\n",
    "\n",
    "\n",
    "def get_data():\n",
    "    '''\n",
    "    输入的是所有images和mask的名字，返回的是经过切割后的数组（None,bands,224,224）,(None,224,224)\n",
    "    '''\n",
    "    img_names=['%02d.tif'%i for i in range(1,15)]\n",
    "    mask_names=['%02d_mask.tif'%i for i in range(1,15)]\n",
    "    print(img_names)\n",
    "    xs, ys = [], []\n",
    "    for (img, mask) in zip(img_names, mask_names):\n",
    "        img = readTif(img)\n",
    "        mask = readTif(mask, True)\n",
    "        imgs, labels = divide(img, mask, 224,100)  # 后两个参数为图片尺寸和步长\n",
    "        for img, label in zip(imgs, labels):\n",
    "            xs.append(img)\n",
    "            ys.append(label)\n",
    "    xs=np.array(xs)\n",
    "    ys=np.array(ys)\n",
    "    return xs, ys\n",
    "\n",
    "\n",
    "xs, ys = get_data()\n",
    "print(xs.shape,ys.shape)"
   ]
  },
  {
   "cell_type": "code",
   "execution_count": 54,
   "metadata": {},
   "outputs": [
    {
     "name": "stdout",
     "output_type": "stream",
     "text": [
      "train_mask.shape (7049, 224, 224)\n"
     ]
    }
   ],
   "source": [
    "# orishape = ys.shape\n",
    "\n",
    "#(None*224*224,)\n",
    "#首先将mask转化为一维的数组，unique_num是value和索引对，比如mask里面原来有一个像素为3，给它分配一个索引0，然后将二维的mask转换为\n",
    "# 索引后的数组,eg：如果里面是23分类，则mask已经转化为里面的元素只有0～22的数组\n",
    "# ys = ys.reshape(-1)\n",
    "# unique_num = {v: i for i, v in enumerate(np.unique(ys))}\n",
    "# for i, v in enumerate(ys):\n",
    "#     ys[i] = unique_num[v]\n",
    "# ys = ys.reshape(orishape)\n",
    "\n",
    "#pi会返回一个数组，这个数组里面的数<xs.shape[0]，然后可以根据pi打乱xs和ys数组里面的排序\n",
    "pi = np.random.permutation(xs.shape[0])\n",
    "xs, ys = xs[pi], ys[pi]\n",
    "bound = int(len(ys)*0.9)\n",
    "np.save('./data/train_image.npy', xs)\n",
    "np.save('./data/train_annotation.npy', ys)\n",
    "np.save('./data/validation_image.npy', xs[bound:])\n",
    "np.save('./data/validation_annotation.npy', ys[bound:])\n",
    "\n",
    "train_mask=np.load('./data/train_annotation.npy')\n",
    "print('train_mask.shape',train_mask.shape)"
   ]
  },
  {
   "cell_type": "code",
   "execution_count": 51,
   "metadata": {},
   "outputs": [
    {
     "name": "stdout",
     "output_type": "stream",
     "text": [
      "(224, 224) [16 16 16 16 16 16 16 16 16 16 16 16 16 16 16 16 16 16 16 16 16 16 16 16\n",
      " 16 16 16 16 16 16 16 16 16 16 16 16 16 16 16 16 16 16 16 16 16 16 16 16\n",
      " 16 16 16 16 16 16 16 16 16 16 16 16 16 16 16 16 16 16 16 16 16 16 16 16\n",
      " 16 16 16 16 16 16 16 16 16 16 16 16 16 16 16 16 16 16 16 16 16 16 16 16\n",
      " 16 16 16 16 16 16 16 16 16 16 16 16 16 16 16 16 16 16 16 16 16 16 16 16\n",
      " 16 16 16 16 16 16 16 16 16 16 16 16 16 16 16 16 16 16 16 16 16 16 16 16\n",
      " 16 16 16 16 16 16 16 16 16 16 16 16 16 16 16 16 16 16 16 16 16 16 16 16\n",
      " 16 16 16 16 16 16 16 16 16 16 16 16 16 16 16 16 16 16 16 16 16 16 16 16\n",
      " 16 16 16 16 16 16 16 16 16 16 16 16 16 16 16 16 16 16 16 16 16 16 16 16\n",
      " 16 16 16 16 16 16 16 16]\n"
     ]
    },
    {
     "data": {
      "text/plain": [
       "True"
      ]
     },
     "execution_count": 51,
     "metadata": {},
     "output_type": "execute_result"
    },
    {
     "data": {
      "image/png": "[encoded data removed]",
      "text/plain": [
       "<Figure size 432x288 with 1 Axes>"
      ]
     },
     "metadata": {
      "needs_background": "light"
     },
     "output_type": "display_data"
    }
   ],
   "source": [
    "import  matplotlib.pyplot as plt\n",
    "\n",
    "\n",
    "img1=ys[19,:,:]\n",
    "print(img1.shape,img1[0,:])\n",
    "plt.imshow(img1)\n",
    "cv2.imwrite('./10.png',img1)"
   ]
  },
  {
   "cell_type": "code",
   "execution_count": 48,
   "metadata": {},
   "outputs": [
    {
     "name": "stderr",
     "output_type": "stream",
     "text": [
      "Clipping input data to the valid range for imshow with RGB data ([0..1] for floats or [0..255] for integers).\n"
     ]
    },
    {
     "name": "stdout",
     "output_type": "stream",
     "text": [
      "(224, 224, 3)\n"
     ]
    },
    {
     "data": {
      "text/plain": [
       "True"
      ]
     },
     "execution_count": 48,
     "metadata": {},
     "output_type": "execute_result"
    },
    {
     "data": {
      "image/png": "[encoded data removed]",
      "text/plain": [
       "<Figure size 432x288 with 1 Axes>"
      ]
     },
     "metadata": {
      "needs_background": "light"
     },
     "output_type": "display_data"
    }
   ],
   "source": [
    "import cv2\n",
    "img=xs.swapaxes(1,2).swapaxes(2,3)\n",
    "img=img/np.max(img)*255.\n",
    "# img.shape\n",
    "img2=img[19,:,:,:3]\n",
    "print(img2.shape)\n",
    "plt.imshow(img2)\n",
    "# print(img2)\n",
    "# np.max(img)\n",
    "# img\n",
    "cv2.imwrite('./10.jpg',img2)"
   ]
  },
  {
   "cell_type": "code",
   "execution_count": 27,
   "metadata": {},
   "outputs": [
    {
     "name": "stdout",
     "output_type": "stream",
     "text": [
      "{15: 0, 16: 1, 17: 2, 21: 3, 23: 4, 24: 5, 30: 6, 41: 7, 42: 8, 43: 9, 45: 10, 46: 11, 50: 12, 54: 13, 65: 14, 90: 15}\n"
     ]
    }
   ],
   "source": [
    "ys=ys.reshape(-1)\n",
    "unique_num = {v: i for i, v in enumerate(np.unique(ys))}\n",
    "print(unique_num)"
   ]
  },
  {
   "cell_type": "code",
   "execution_count": null,
   "metadata": {},
   "outputs": [],
   "source": [
    "orishape = ys.shape\n",
    "\n",
    "#(None*224*224,)\n",
    "#首先将mask转化为一维的数组，unique_num是value和索引对，比如mask里面原来有一个像素为3，给它分配一个索引0，然后将二维的mask转换为\n",
    "# 索引后的数组,eg：如果里面是23分类，则mask已经转化为里面的元素只有0～22的数组\n",
    "ys = ys.reshape(-1)\n",
    "unique_num = {v: i for i, v in enumerate(np.unique(ys))}\n",
    "for i, v in enumerate(ys):\n",
    "    ys[i] = unique_num[v]\n",
    "ys = ys.reshape(orishape)\n",
    "\n",
    "#pi会返回一个数组，这个数组里面的数<xs.shape[0]，然后可以根据pi打乱xs和ys数组里面的排序\n",
    "pi = np.random.permutation(xs.shape[0])\n",
    "xs, ys = xs[pi], ys[pi]\n",
    "bound = int(len(ys)*0.9)\n",
    "np.save('./data2/train_image.npy', xs[:bound])\n",
    "np.save('./data2/train_annotation.npy', ys[:bound])\n",
    "np.save('./data2/validation_image.npy', xs[bound:])\n",
    "np.save('./data2/validation_annotation.npy', ys[bound:])\n",
    "\n",
    "train_mask=np.load('./data2/train_annotation.npy')\n",
    "print('train_mask.shape',train_mask.shape"
   ]
  },
  {
   "cell_type": "code",
   "execution_count": null,
   "metadata": {},
   "outputs": [],
   "source": []
  },
  {
   "cell_type": "code",
   "execution_count": null,
   "metadata": {},
   "outputs": [],
   "source": [
    "# coding:utf-8\n",
    "import numpy as np\n",
    "import cv2\n",
    "import tensorflow as tf\n",
    "# from libtiff import TIFF\n",
    "import matplotlib.pyplot as plt\n",
    "from skimage import io\n",
    "img_size = 224\n",
    "\n",
    "file_dir = './all_images/'\n",
    "\n",
    "\n",
    "def get_mask(imgs):\n",
    "    #输入测试图片的array，返回模型预测的array\n",
    "    imgs = imgs.swapaxes(1, 2).swapaxes(2, 3)\n",
    "    masks = []\n",
    "    for img in imgs:\n",
    "        img = np.expand_dims(img, axis=0)\n",
    "        mask = deeplab_model.predict([img])\n",
    "        masks.append(mask)\n",
    "    return np.array(masks)\n",
    "\n",
    "\n",
    "# import gdal\n",
    "def readTif(file_name, isMask=False):\n",
    "    #读取tif图片\n",
    "#     tif = TIFF.open(file_dir + file_name)\n",
    "\n",
    "#     image = tif.read_image()\n",
    "    image=io.imread(file_dir+file_name)\n",
    "    im_width = image.shape[1]\n",
    "    im_height = image.shape[0]\n",
    "    im_bands = 1\n",
    "    if not isMask:\n",
    "        im_width = image.shape[1]\n",
    "        im_height = image.shape[0]\n",
    "        im_bands = image.shape[2]\n",
    "        image = image.swapaxes(0, 2)\n",
    "        im_data = image.swapaxes(1, 2)\n",
    "        image = im_data\n",
    "\n",
    "    return {'width': im_width, 'height': im_height, 'band_num': im_bands, 'data': image}\n",
    "\n",
    "\n",
    "def divide(img):\n",
    "    #切割图片，同制作数据时的切割不同，现在的切割是无缝无重叠的切割\n",
    "    imgs = np.array([])\n",
    "    bands, height, width = img.shape\n",
    "    for row in range(0, height, img_size):\n",
    "        for col in range(0, width, img_size):\n",
    "            if row + img_size >= height:\n",
    "                row = height - img_size - 1\n",
    "            if col + img_size >= width:\n",
    "                col = width - img_size - 1\n",
    "            imgs = np.append(imgs, img[:, row:row + img_size, col:col + img_size])\n",
    "    imgs = imgs.reshape([-1, 4, 224, 224])\n",
    "\n",
    "    return imgs\n",
    "\n",
    "\n",
    "def union(imgs, height, width):\n",
    "    img = np.zeros((height, width))\n",
    "    id = 0\n",
    "    for row in range(0, height, img_size):\n",
    "        for col in range(0, width, img_size):\n",
    "            if row + img_size >= height:\n",
    "                row = height - img_size - 1\n",
    "            if col + img_size >= width:\n",
    "                col = width - img_size - 1\n",
    "            img[row:row + img_size, col:col + img_size] = imgs[id]\n",
    "            id += 1\n",
    "    return img\n"
   ]
  }
 ],
 "metadata": {
  "kernelspec": {
   "display_name": "Python 3",
   "language": "python",
   "name": "python3"
  },
  "language_info": {
   "codemirror_mode": {
    "name": "ipython",
    "version": 3
   },
   "file_extension": ".py",
   "mimetype": "text/x-python",
   "name": "python",
   "nbconvert_exporter": "python",
   "pygments_lexer": "ipython3",
   "version": "3.6.5"
  }
 },
 "nbformat": 4,
 "nbformat_minor": 2
}
